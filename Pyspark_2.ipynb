{
  "nbformat": 4,
  "nbformat_minor": 0,
  "metadata": {
    "colab": {
      "name": "Pyspark_2.ipynb",
      "provenance": [],
      "toc_visible": true,
      "authorship_tag": "ABX9TyNAMBlRpqFKs/zF0n6TJmH2",
      "include_colab_link": true
    },
    "kernelspec": {
      "name": "python3",
      "display_name": "Python 3"
    },
    "language_info": {
      "name": "python"
    }
  },
  "cells": [
    {
      "cell_type": "markdown",
      "metadata": {
        "id": "view-in-github",
        "colab_type": "text"
      },
      "source": [
        "<a href=\"https://colab.research.google.com/github/kvraagul/Pyspark/blob/main/Pyspark_2.ipynb\" target=\"_parent\"><img src=\"https://colab.research.google.com/assets/colab-badge.svg\" alt=\"Open In Colab\"/></a>"
      ]
    },
    {
      "cell_type": "code",
      "metadata": {
        "colab": {
          "base_uri": "https://localhost:8080/"
        },
        "id": "ds0GOUG97Xqt",
        "outputId": "cf605ff8-2e3c-45d0-95f0-48ad8b3869db"
      },
      "source": [
        "!pip install pyspark"
      ],
      "execution_count": 1,
      "outputs": [
        {
          "output_type": "stream",
          "text": [
            "Collecting pyspark\n",
            "\u001b[?25l  Downloading https://files.pythonhosted.org/packages/89/db/e18cfd78e408de957821ec5ca56de1250645b05f8523d169803d8df35a64/pyspark-3.1.2.tar.gz (212.4MB)\n",
            "\u001b[K     |████████████████████████████████| 212.4MB 73kB/s \n",
            "\u001b[?25hCollecting py4j==0.10.9\n",
            "\u001b[?25l  Downloading https://files.pythonhosted.org/packages/9e/b6/6a4fb90cd235dc8e265a6a2067f2a2c99f0d91787f06aca4bcf7c23f3f80/py4j-0.10.9-py2.py3-none-any.whl (198kB)\n",
            "\u001b[K     |████████████████████████████████| 204kB 20.5MB/s \n",
            "\u001b[?25hBuilding wheels for collected packages: pyspark\n",
            "  Building wheel for pyspark (setup.py) ... \u001b[?25l\u001b[?25hdone\n",
            "  Created wheel for pyspark: filename=pyspark-3.1.2-py2.py3-none-any.whl size=212880768 sha256=5e8576d98b8743a16be24332b69b908f488b9edf262ccf066a7cebe64a76844d\n",
            "  Stored in directory: /root/.cache/pip/wheels/40/1b/2c/30f43be2627857ab80062bef1527c0128f7b4070b6b2d02139\n",
            "Successfully built pyspark\n",
            "Installing collected packages: py4j, pyspark\n",
            "Successfully installed py4j-0.10.9 pyspark-3.1.2\n"
          ],
          "name": "stdout"
        }
      ]
    },
    {
      "cell_type": "code",
      "metadata": {
        "id": "WGTrmR1T7cqv"
      },
      "source": [
        "import pyspark"
      ],
      "execution_count": 2,
      "outputs": []
    },
    {
      "cell_type": "code",
      "metadata": {
        "colab": {
          "base_uri": "https://localhost:8080/",
          "height": 214
        },
        "id": "3hNwWTIj7cv-",
        "outputId": "17e78aad-c14f-4f74-9c0b-5e36b23462d2"
      },
      "source": [
        "from pyspark.sql import SparkSession\n",
        "spark = SparkSession.builder.appName('Pyspark Tutorial').getOrCreate()\n",
        "spark"
      ],
      "execution_count": 3,
      "outputs": [
        {
          "output_type": "execute_result",
          "data": {
            "text/html": [
              "\n",
              "            <div>\n",
              "                <p><b>SparkSession - in-memory</b></p>\n",
              "                \n",
              "        <div>\n",
              "            <p><b>SparkContext</b></p>\n",
              "\n",
              "            <p><a href=\"http://a5f757d4db6d:4040\">Spark UI</a></p>\n",
              "\n",
              "            <dl>\n",
              "              <dt>Version</dt>\n",
              "                <dd><code>v3.1.2</code></dd>\n",
              "              <dt>Master</dt>\n",
              "                <dd><code>local[*]</code></dd>\n",
              "              <dt>AppName</dt>\n",
              "                <dd><code>Pyspark Tutorial</code></dd>\n",
              "            </dl>\n",
              "        </div>\n",
              "        \n",
              "            </div>\n",
              "        "
            ],
            "text/plain": [
              "<pyspark.sql.session.SparkSession at 0x7fac8a87fbd0>"
            ]
          },
          "metadata": {
            "tags": []
          },
          "execution_count": 3
        }
      ]
    },
    {
      "cell_type": "code",
      "metadata": {
        "colab": {
          "base_uri": "https://localhost:8080/"
        },
        "id": "uy0LsSHS8HIL",
        "outputId": "055f333a-6d08-4423-a186-a6b59884fafe"
      },
      "source": [
        "df = spark.read.csv('NullData.csv',header=True,inferSchema=True)\n",
        "df.show()"
      ],
      "execution_count": 4,
      "outputs": [
        {
          "output_type": "stream",
          "text": [
            "+-------+----+------+---------+\n",
            "|Country| Age|Salary|Purchased|\n",
            "+-------+----+------+---------+\n",
            "| France|  44| 72000|       No|\n",
            "|  Spain|  27| 48000|      Yes|\n",
            "|Germany|  30| 54000|       No|\n",
            "|  Spain|  38| 61000|       No|\n",
            "|Germany|  40|  null|      Yes|\n",
            "| France|  35| 58000|      Yes|\n",
            "|  Spain|null| 52000|       No|\n",
            "| France|  48| 79000|      Yes|\n",
            "|Germany|  50| 83000|       No|\n",
            "| France|  37| 67000|      Yes|\n",
            "+-------+----+------+---------+\n",
            "\n"
          ],
          "name": "stdout"
        }
      ]
    },
    {
      "cell_type": "code",
      "metadata": {
        "colab": {
          "base_uri": "https://localhost:8080/"
        },
        "id": "sZnmY31NFTs2",
        "outputId": "09c8e7f4-0e24-4c2d-914a-cad035d49f09"
      },
      "source": [
        "df.printSchema()"
      ],
      "execution_count": 22,
      "outputs": [
        {
          "output_type": "stream",
          "text": [
            "root\n",
            " |-- Country: string (nullable = true)\n",
            " |-- Age: integer (nullable = true)\n",
            " |-- Salary: integer (nullable = true)\n",
            " |-- Purchased: string (nullable = true)\n",
            "\n"
          ],
          "name": "stdout"
        }
      ]
    },
    {
      "cell_type": "markdown",
      "metadata": {
        "id": "d0-HpSri9xT7"
      },
      "source": [
        "# Dealing with Null Values"
      ]
    },
    {
      "cell_type": "markdown",
      "metadata": {
        "id": "x79_s9rr-HTx"
      },
      "source": [
        "## Drop"
      ]
    },
    {
      "cell_type": "code",
      "metadata": {
        "colab": {
          "base_uri": "https://localhost:8080/"
        },
        "id": "mykUBZo293Kp",
        "outputId": "04e25d98-6ae8-4493-ddd9-636da847cedb"
      },
      "source": [
        "df_1 = df.na.drop()\n",
        "df_1.show()"
      ],
      "execution_count": 5,
      "outputs": [
        {
          "output_type": "stream",
          "text": [
            "+-------+---+------+---------+\n",
            "|Country|Age|Salary|Purchased|\n",
            "+-------+---+------+---------+\n",
            "| France| 44| 72000|       No|\n",
            "|  Spain| 27| 48000|      Yes|\n",
            "|Germany| 30| 54000|       No|\n",
            "|  Spain| 38| 61000|       No|\n",
            "| France| 35| 58000|      Yes|\n",
            "| France| 48| 79000|      Yes|\n",
            "|Germany| 50| 83000|       No|\n",
            "| France| 37| 67000|      Yes|\n",
            "+-------+---+------+---------+\n",
            "\n"
          ],
          "name": "stdout"
        }
      ]
    },
    {
      "cell_type": "markdown",
      "metadata": {
        "id": "8BG2f6U3DlLq"
      },
      "source": [
        "**how='any'**\n",
        "\n",
        "* It will drop the entire row if one value is null value.\n",
        "\n",
        "* By default how='any'"
      ]
    },
    {
      "cell_type": "code",
      "metadata": {
        "colab": {
          "base_uri": "https://localhost:8080/"
        },
        "id": "Jwbk1Ggu-bET",
        "outputId": "ef7bb40a-582b-4aa8-f4ae-3c3f7e919219"
      },
      "source": [
        "df_2 = df.na.drop(how='any')\n",
        "df_2.show()"
      ],
      "execution_count": 6,
      "outputs": [
        {
          "output_type": "stream",
          "text": [
            "+-------+---+------+---------+\n",
            "|Country|Age|Salary|Purchased|\n",
            "+-------+---+------+---------+\n",
            "| France| 44| 72000|       No|\n",
            "|  Spain| 27| 48000|      Yes|\n",
            "|Germany| 30| 54000|       No|\n",
            "|  Spain| 38| 61000|       No|\n",
            "| France| 35| 58000|      Yes|\n",
            "| France| 48| 79000|      Yes|\n",
            "|Germany| 50| 83000|       No|\n",
            "| France| 37| 67000|      Yes|\n",
            "+-------+---+------+---------+\n",
            "\n"
          ],
          "name": "stdout"
        }
      ]
    },
    {
      "cell_type": "markdown",
      "metadata": {
        "id": "lRgr8i-LD6Zu"
      },
      "source": [
        "**how='all'**\n",
        "\n",
        "* It will drop the null values only if entire row contains null value"
      ]
    },
    {
      "cell_type": "code",
      "metadata": {
        "colab": {
          "base_uri": "https://localhost:8080/"
        },
        "id": "hjdoLi2C-3hd",
        "outputId": "e3c5a95e-e304-4fa5-88b5-f6f1a828e5b6"
      },
      "source": [
        "df_3 = df.na.drop(how='all')\n",
        "df_3.show()"
      ],
      "execution_count": 7,
      "outputs": [
        {
          "output_type": "stream",
          "text": [
            "+-------+----+------+---------+\n",
            "|Country| Age|Salary|Purchased|\n",
            "+-------+----+------+---------+\n",
            "| France|  44| 72000|       No|\n",
            "|  Spain|  27| 48000|      Yes|\n",
            "|Germany|  30| 54000|       No|\n",
            "|  Spain|  38| 61000|       No|\n",
            "|Germany|  40|  null|      Yes|\n",
            "| France|  35| 58000|      Yes|\n",
            "|  Spain|null| 52000|       No|\n",
            "| France|  48| 79000|      Yes|\n",
            "|Germany|  50| 83000|       No|\n",
            "| France|  37| 67000|      Yes|\n",
            "+-------+----+------+---------+\n",
            "\n"
          ],
          "name": "stdout"
        }
      ]
    },
    {
      "cell_type": "markdown",
      "metadata": {
        "id": "dE2KB4xoEpOL"
      },
      "source": [
        "**Threshold value**\n",
        "*  For example \n",
        "\n",
        " if the threshold value is 2 it means that the row must contain 2 non-null value , \n",
        "\n",
        " if the threshold value is 1 it means that the row must contain 1 non-null value "
      ]
    },
    {
      "cell_type": "code",
      "metadata": {
        "colab": {
          "base_uri": "https://localhost:8080/"
        },
        "id": "9zkKifgL_29S",
        "outputId": "9fd48cc6-8b8a-48a5-e980-6b555dd14203"
      },
      "source": [
        "df_4 = df.na.drop(how='any',thresh=2)\n",
        "df_4.show()"
      ],
      "execution_count": 8,
      "outputs": [
        {
          "output_type": "stream",
          "text": [
            "+-------+----+------+---------+\n",
            "|Country| Age|Salary|Purchased|\n",
            "+-------+----+------+---------+\n",
            "| France|  44| 72000|       No|\n",
            "|  Spain|  27| 48000|      Yes|\n",
            "|Germany|  30| 54000|       No|\n",
            "|  Spain|  38| 61000|       No|\n",
            "|Germany|  40|  null|      Yes|\n",
            "| France|  35| 58000|      Yes|\n",
            "|  Spain|null| 52000|       No|\n",
            "| France|  48| 79000|      Yes|\n",
            "|Germany|  50| 83000|       No|\n",
            "| France|  37| 67000|      Yes|\n",
            "+-------+----+------+---------+\n",
            "\n"
          ],
          "name": "stdout"
        }
      ]
    },
    {
      "cell_type": "code",
      "metadata": {
        "colab": {
          "base_uri": "https://localhost:8080/"
        },
        "id": "6fPm_Sg6BYFM",
        "outputId": "18c10255-b95f-4e70-d3b8-f611e5990728"
      },
      "source": [
        "df_5 = df.na.drop(thresh=4)\n",
        "df_5.show()"
      ],
      "execution_count": 9,
      "outputs": [
        {
          "output_type": "stream",
          "text": [
            "+-------+---+------+---------+\n",
            "|Country|Age|Salary|Purchased|\n",
            "+-------+---+------+---------+\n",
            "| France| 44| 72000|       No|\n",
            "|  Spain| 27| 48000|      Yes|\n",
            "|Germany| 30| 54000|       No|\n",
            "|  Spain| 38| 61000|       No|\n",
            "| France| 35| 58000|      Yes|\n",
            "| France| 48| 79000|      Yes|\n",
            "|Germany| 50| 83000|       No|\n",
            "| France| 37| 67000|      Yes|\n",
            "+-------+---+------+---------+\n",
            "\n"
          ],
          "name": "stdout"
        }
      ]
    },
    {
      "cell_type": "markdown",
      "metadata": {
        "id": "x7262jZQE7mE"
      },
      "source": [
        "**Subset**\n",
        "\n",
        "* In subset only particular mentioned column null values get dropped"
      ]
    },
    {
      "cell_type": "code",
      "metadata": {
        "colab": {
          "base_uri": "https://localhost:8080/"
        },
        "id": "JbYtXhGhB-KY",
        "outputId": "889ad594-9c23-46b3-ce72-e593a11d7c62"
      },
      "source": [
        "df_6 = df.na.drop(subset=['Salary']).show()"
      ],
      "execution_count": 10,
      "outputs": [
        {
          "output_type": "stream",
          "text": [
            "+-------+----+------+---------+\n",
            "|Country| Age|Salary|Purchased|\n",
            "+-------+----+------+---------+\n",
            "| France|  44| 72000|       No|\n",
            "|  Spain|  27| 48000|      Yes|\n",
            "|Germany|  30| 54000|       No|\n",
            "|  Spain|  38| 61000|       No|\n",
            "| France|  35| 58000|      Yes|\n",
            "|  Spain|null| 52000|       No|\n",
            "| France|  48| 79000|      Yes|\n",
            "|Germany|  50| 83000|       No|\n",
            "| France|  37| 67000|      Yes|\n",
            "+-------+----+------+---------+\n",
            "\n"
          ],
          "name": "stdout"
        }
      ]
    },
    {
      "cell_type": "code",
      "metadata": {
        "colab": {
          "base_uri": "https://localhost:8080/"
        },
        "id": "gaZmXvdzCoNV",
        "outputId": "188d9fd8-f84b-4454-e173-f5935f13e303"
      },
      "source": [
        "df_7 = df.na.drop(subset=['Age']).show()"
      ],
      "execution_count": 11,
      "outputs": [
        {
          "output_type": "stream",
          "text": [
            "+-------+---+------+---------+\n",
            "|Country|Age|Salary|Purchased|\n",
            "+-------+---+------+---------+\n",
            "| France| 44| 72000|       No|\n",
            "|  Spain| 27| 48000|      Yes|\n",
            "|Germany| 30| 54000|       No|\n",
            "|  Spain| 38| 61000|       No|\n",
            "|Germany| 40|  null|      Yes|\n",
            "| France| 35| 58000|      Yes|\n",
            "| France| 48| 79000|      Yes|\n",
            "|Germany| 50| 83000|       No|\n",
            "| France| 37| 67000|      Yes|\n",
            "+-------+---+------+---------+\n",
            "\n"
          ],
          "name": "stdout"
        }
      ]
    },
    {
      "cell_type": "markdown",
      "metadata": {
        "id": "snFFV4mnDbtb"
      },
      "source": [
        "## Imputer"
      ]
    },
    {
      "cell_type": "code",
      "metadata": {
        "id": "G9K3ZaDCGh1O"
      },
      "source": [
        "from pyspark.ml.feature import Imputer\n",
        "\n",
        "imputer = Imputer(\n",
        "    inputCols=['Age', 'Salary'], \n",
        "    outputCols=[\"{}_imputed\".format(c) for c in ['Age', 'Salary']]\n",
        "    ).setStrategy(\"median\")"
      ],
      "execution_count": 12,
      "outputs": []
    },
    {
      "cell_type": "code",
      "metadata": {
        "colab": {
          "base_uri": "https://localhost:8080/"
        },
        "id": "ptcdxfYeGuTh",
        "outputId": "bfb46413-c0ac-4d8f-def3-2e8533818858"
      },
      "source": [
        "df_imp = imputer.fit(df).transform(df).show()"
      ],
      "execution_count": 13,
      "outputs": [
        {
          "output_type": "stream",
          "text": [
            "+-------+----+------+---------+-----------+--------------+\n",
            "|Country| Age|Salary|Purchased|Age_imputed|Salary_imputed|\n",
            "+-------+----+------+---------+-----------+--------------+\n",
            "| France|  44| 72000|       No|         44|         72000|\n",
            "|  Spain|  27| 48000|      Yes|         27|         48000|\n",
            "|Germany|  30| 54000|       No|         30|         54000|\n",
            "|  Spain|  38| 61000|       No|         38|         61000|\n",
            "|Germany|  40|  null|      Yes|         40|         61000|\n",
            "| France|  35| 58000|      Yes|         35|         58000|\n",
            "|  Spain|null| 52000|       No|         38|         52000|\n",
            "| France|  48| 79000|      Yes|         48|         79000|\n",
            "|Germany|  50| 83000|       No|         50|         83000|\n",
            "| France|  37| 67000|      Yes|         37|         67000|\n",
            "+-------+----+------+---------+-----------+--------------+\n",
            "\n"
          ],
          "name": "stdout"
        }
      ]
    },
    {
      "cell_type": "markdown",
      "metadata": {
        "id": "exYthB1LrdsH"
      },
      "source": [
        "# Filter Operations"
      ]
    },
    {
      "cell_type": "markdown",
      "metadata": {
        "id": "3QqUYL-jym2g"
      },
      "source": [
        "## <= and >= operation"
      ]
    },
    {
      "cell_type": "markdown",
      "metadata": {
        "id": "6K3C5WEduOHN"
      },
      "source": [
        "Salary of the people less than or equal to 60000"
      ]
    },
    {
      "cell_type": "code",
      "metadata": {
        "colab": {
          "base_uri": "https://localhost:8080/"
        },
        "id": "OzadDYydrkOy",
        "outputId": "f7c8dd84-2515-43eb-a8d8-77880775072d"
      },
      "source": [
        "df_1.filter('Salary<=60000').show()"
      ],
      "execution_count": 14,
      "outputs": [
        {
          "output_type": "stream",
          "text": [
            "+-------+---+------+---------+\n",
            "|Country|Age|Salary|Purchased|\n",
            "+-------+---+------+---------+\n",
            "|  Spain| 27| 48000|      Yes|\n",
            "|Germany| 30| 54000|       No|\n",
            "| France| 35| 58000|      Yes|\n",
            "+-------+---+------+---------+\n",
            "\n"
          ],
          "name": "stdout"
        }
      ]
    },
    {
      "cell_type": "code",
      "metadata": {
        "colab": {
          "base_uri": "https://localhost:8080/"
        },
        "id": "CMnnBNDr0Z65",
        "outputId": "34de22de-45c1-40b7-f725-cee8f79c4cb4"
      },
      "source": [
        "df_1.filter(df['Salary']<=60000).show()"
      ],
      "execution_count": 15,
      "outputs": [
        {
          "output_type": "stream",
          "text": [
            "+-------+---+------+---------+\n",
            "|Country|Age|Salary|Purchased|\n",
            "+-------+---+------+---------+\n",
            "|  Spain| 27| 48000|      Yes|\n",
            "|Germany| 30| 54000|       No|\n",
            "| France| 35| 58000|      Yes|\n",
            "+-------+---+------+---------+\n",
            "\n"
          ],
          "name": "stdout"
        }
      ]
    },
    {
      "cell_type": "code",
      "metadata": {
        "colab": {
          "base_uri": "https://localhost:8080/"
        },
        "id": "XIUX9XyqyBsL",
        "outputId": "2f26752c-a186-4811-fe69-a7564f76f72d"
      },
      "source": [
        "df_1.filter('Salary<=60000').select(['Age','Purchased']).show()"
      ],
      "execution_count": 16,
      "outputs": [
        {
          "output_type": "stream",
          "text": [
            "+---+---------+\n",
            "|Age|Purchased|\n",
            "+---+---------+\n",
            "| 27|      Yes|\n",
            "| 30|       No|\n",
            "| 35|      Yes|\n",
            "+---+---------+\n",
            "\n"
          ],
          "name": "stdout"
        }
      ]
    },
    {
      "cell_type": "markdown",
      "metadata": {
        "id": "CasmQjiG0n_P"
      },
      "source": [
        "Salary of the people greater than or equal to 60000"
      ]
    },
    {
      "cell_type": "code",
      "metadata": {
        "colab": {
          "base_uri": "https://localhost:8080/"
        },
        "id": "FTVNCqJDyvmf",
        "outputId": "d7ad54af-bc20-4308-8397-cf0d04fadd16"
      },
      "source": [
        "df_1.filter('Salary>=60000').show()"
      ],
      "execution_count": 17,
      "outputs": [
        {
          "output_type": "stream",
          "text": [
            "+-------+---+------+---------+\n",
            "|Country|Age|Salary|Purchased|\n",
            "+-------+---+------+---------+\n",
            "| France| 44| 72000|       No|\n",
            "|  Spain| 38| 61000|       No|\n",
            "| France| 48| 79000|      Yes|\n",
            "|Germany| 50| 83000|       No|\n",
            "| France| 37| 67000|      Yes|\n",
            "+-------+---+------+---------+\n",
            "\n"
          ],
          "name": "stdout"
        }
      ]
    },
    {
      "cell_type": "code",
      "metadata": {
        "colab": {
          "base_uri": "https://localhost:8080/"
        },
        "id": "gK9DXi8ry1vO",
        "outputId": "7edc201f-9917-4c4e-8d26-d34ac60c5c0f"
      },
      "source": [
        "df_1.filter('Salary>=60000').select(['Age','Purchased']).show()"
      ],
      "execution_count": 18,
      "outputs": [
        {
          "output_type": "stream",
          "text": [
            "+---+---------+\n",
            "|Age|Purchased|\n",
            "+---+---------+\n",
            "| 44|       No|\n",
            "| 38|       No|\n",
            "| 48|      Yes|\n",
            "| 50|       No|\n",
            "| 37|      Yes|\n",
            "+---+---------+\n",
            "\n"
          ],
          "name": "stdout"
        }
      ]
    },
    {
      "cell_type": "markdown",
      "metadata": {
        "id": "LDT360HmzUoU"
      },
      "source": [
        "## & and | operation"
      ]
    },
    {
      "cell_type": "code",
      "metadata": {
        "colab": {
          "base_uri": "https://localhost:8080/"
        },
        "id": "T7IwU6fEzjaC",
        "outputId": "f74256d1-5fcd-4afe-a75f-3aeed9bb0cdf"
      },
      "source": [
        "df_1.filter((df['Salary']<= 60000) & (df['Age']>= 30)).show()"
      ],
      "execution_count": 19,
      "outputs": [
        {
          "output_type": "stream",
          "text": [
            "+-------+---+------+---------+\n",
            "|Country|Age|Salary|Purchased|\n",
            "+-------+---+------+---------+\n",
            "|Germany| 30| 54000|       No|\n",
            "| France| 35| 58000|      Yes|\n",
            "+-------+---+------+---------+\n",
            "\n"
          ],
          "name": "stdout"
        }
      ]
    },
    {
      "cell_type": "code",
      "metadata": {
        "colab": {
          "base_uri": "https://localhost:8080/"
        },
        "id": "on8NazqM1cis",
        "outputId": "0c402552-c4fc-4a03-ac30-cb3705a4b105"
      },
      "source": [
        "df_1.filter((df['Salary']<= 60000) | (df['Age']>= 30)).show()"
      ],
      "execution_count": 20,
      "outputs": [
        {
          "output_type": "stream",
          "text": [
            "+-------+---+------+---------+\n",
            "|Country|Age|Salary|Purchased|\n",
            "+-------+---+------+---------+\n",
            "| France| 44| 72000|       No|\n",
            "|  Spain| 27| 48000|      Yes|\n",
            "|Germany| 30| 54000|       No|\n",
            "|  Spain| 38| 61000|       No|\n",
            "| France| 35| 58000|      Yes|\n",
            "| France| 48| 79000|      Yes|\n",
            "|Germany| 50| 83000|       No|\n",
            "| France| 37| 67000|      Yes|\n",
            "+-------+---+------+---------+\n",
            "\n"
          ],
          "name": "stdout"
        }
      ]
    },
    {
      "cell_type": "markdown",
      "metadata": {
        "id": "5xJriwb211lb"
      },
      "source": [
        "## ~ operation (not operation)"
      ]
    },
    {
      "cell_type": "code",
      "metadata": {
        "colab": {
          "base_uri": "https://localhost:8080/"
        },
        "id": "jl-baGQo17s5",
        "outputId": "c65f6539-26f0-4917-c196-8fc03bc5e8fb"
      },
      "source": [
        "df_1.filter(~(df['Salary']<=60000)).show()"
      ],
      "execution_count": 21,
      "outputs": [
        {
          "output_type": "stream",
          "text": [
            "+-------+---+------+---------+\n",
            "|Country|Age|Salary|Purchased|\n",
            "+-------+---+------+---------+\n",
            "| France| 44| 72000|       No|\n",
            "|  Spain| 38| 61000|       No|\n",
            "| France| 48| 79000|      Yes|\n",
            "|Germany| 50| 83000|       No|\n",
            "| France| 37| 67000|      Yes|\n",
            "+-------+---+------+---------+\n",
            "\n"
          ],
          "name": "stdout"
        }
      ]
    },
    {
      "cell_type": "markdown",
      "metadata": {
        "id": "coZxNwl62xCP"
      },
      "source": [
        "# GroupBy Function"
      ]
    },
    {
      "cell_type": "code",
      "metadata": {
        "colab": {
          "base_uri": "https://localhost:8080/"
        },
        "id": "uCZmWFjs209n",
        "outputId": "7fc40f2c-f5a2-45c5-ecf7-c06593bee6c0"
      },
      "source": [
        "df.groupBy('Country').sum('Salary').show()"
      ],
      "execution_count": 25,
      "outputs": [
        {
          "output_type": "stream",
          "text": [
            "+-------+-----------+\n",
            "|Country|sum(Salary)|\n",
            "+-------+-----------+\n",
            "|Germany|     137000|\n",
            "| France|     276000|\n",
            "|  Spain|     161000|\n",
            "+-------+-----------+\n",
            "\n"
          ],
          "name": "stdout"
        }
      ]
    },
    {
      "cell_type": "code",
      "metadata": {
        "colab": {
          "base_uri": "https://localhost:8080/"
        },
        "id": "UxnhpOAXFLXD",
        "outputId": "746e290c-d13a-40a2-e35a-29737c9adb9f"
      },
      "source": [
        "df.groupBy('Country').mean().show()"
      ],
      "execution_count": 27,
      "outputs": [
        {
          "output_type": "stream",
          "text": [
            "+-------+--------+------------------+\n",
            "|Country|avg(Age)|       avg(Salary)|\n",
            "+-------+--------+------------------+\n",
            "|Germany|    40.0|           68500.0|\n",
            "| France|    41.0|           69000.0|\n",
            "|  Spain|    32.5|53666.666666666664|\n",
            "+-------+--------+------------------+\n",
            "\n"
          ],
          "name": "stdout"
        }
      ]
    },
    {
      "cell_type": "code",
      "metadata": {
        "colab": {
          "base_uri": "https://localhost:8080/"
        },
        "id": "VnxMXmXcGIlH",
        "outputId": "45742640-6142-4335-a89a-2013388d570f"
      },
      "source": [
        "df.groupby('Country').count().show()"
      ],
      "execution_count": 28,
      "outputs": [
        {
          "output_type": "stream",
          "text": [
            "+-------+-----+\n",
            "|Country|count|\n",
            "+-------+-----+\n",
            "|Germany|    3|\n",
            "| France|    4|\n",
            "|  Spain|    3|\n",
            "+-------+-----+\n",
            "\n"
          ],
          "name": "stdout"
        }
      ]
    },
    {
      "cell_type": "markdown",
      "metadata": {
        "id": "sYb7tt1AGgN8"
      },
      "source": [
        "# Aggregate Function"
      ]
    },
    {
      "cell_type": "code",
      "metadata": {
        "colab": {
          "base_uri": "https://localhost:8080/"
        },
        "id": "e2k7_Cu5GnDP",
        "outputId": "05289d38-d41b-4070-b6ed-3c108d4bfaa5"
      },
      "source": [
        "df.agg({'Salary':'mean'}).show()"
      ],
      "execution_count": 31,
      "outputs": [
        {
          "output_type": "stream",
          "text": [
            "+-----------------+\n",
            "|      avg(Salary)|\n",
            "+-----------------+\n",
            "|63777.77777777778|\n",
            "+-----------------+\n",
            "\n"
          ],
          "name": "stdout"
        }
      ]
    },
    {
      "cell_type": "code",
      "metadata": {
        "colab": {
          "base_uri": "https://localhost:8080/"
        },
        "id": "Ee9itJQ4HEs5",
        "outputId": "fcf36b24-43d0-4f0f-db4b-7e0cf84eae76"
      },
      "source": [
        "df.groupBy('Country').agg({'Salary':'mean'}).show()"
      ],
      "execution_count": 32,
      "outputs": [
        {
          "output_type": "stream",
          "text": [
            "+-------+------------------+\n",
            "|Country|       avg(Salary)|\n",
            "+-------+------------------+\n",
            "|Germany|           68500.0|\n",
            "| France|           69000.0|\n",
            "|  Spain|53666.666666666664|\n",
            "+-------+------------------+\n",
            "\n"
          ],
          "name": "stdout"
        }
      ]
    }
  ]
}